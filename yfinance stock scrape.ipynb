{
 "cells": [
  {
   "cell_type": "code",
   "execution_count": 2,
   "id": "c275afb1",
   "metadata": {},
   "outputs": [],
   "source": [
    "import pandas as pd\n",
    "import yfinance as yf\n",
    "from datetime import datetime, timedelta"
   ]
  },
  {
   "cell_type": "code",
   "execution_count": 5,
   "id": "da6e88a9",
   "metadata": {},
   "outputs": [],
   "source": [
    "#define the list of stocks\n",
    "tickers = ['SPY', 'BND', 'GLD', 'VTI', 'QQQ']"
   ]
  },
  {
   "cell_type": "code",
   "execution_count": 6,
   "id": "8a9884ff",
   "metadata": {},
   "outputs": [
    {
     "name": "stdout",
     "output_type": "stream",
     "text": [
      "2024-01-01 20:30:23.838207\n"
     ]
    }
   ],
   "source": [
    "#enddate - time range we are interested in\n",
    "enddate = datetime.today()\n",
    "print(enddate)"
   ]
  },
  {
   "cell_type": "code",
   "execution_count": 8,
   "id": "c68bcc0a",
   "metadata": {},
   "outputs": [
    {
     "name": "stdout",
     "output_type": "stream",
     "text": [
      "2022-01-01 20:30:23.838207\n"
     ]
    }
   ],
   "source": [
    "startdate = enddate - timedelta(days = 2*365)\n",
    "print(startdate)"
   ]
  },
  {
   "cell_type": "code",
   "execution_count": 9,
   "id": "4cae7847",
   "metadata": {},
   "outputs": [],
   "source": [
    "close_df = pd.DataFrame()"
   ]
  },
  {
   "cell_type": "code",
   "execution_count": 10,
   "id": "5a7492e7",
   "metadata": {},
   "outputs": [
    {
     "name": "stdout",
     "output_type": "stream",
     "text": [
      "[*********************100%%**********************]  1 of 1 completed\n",
      "[*********************100%%**********************]  1 of 1 completed\n",
      "[*********************100%%**********************]  1 of 1 completed\n",
      "[*********************100%%**********************]  1 of 1 completed\n",
      "[*********************100%%**********************]  1 of 1 completed\n"
     ]
    }
   ],
   "source": [
    "for ticker in tickers:\n",
    "    data = yf.download(ticker,start = startdate, end = enddate)\n",
    "    close_df[ticker] = data['Close']"
   ]
  },
  {
   "cell_type": "code",
   "execution_count": 11,
   "id": "b6f86bdd",
   "metadata": {},
   "outputs": [
    {
     "name": "stdout",
     "output_type": "stream",
     "text": [
      "                   SPY        BND         GLD         VTI         QQQ\n",
      "Date                                                                 \n",
      "2022-01-03  477.709991  84.180000  168.330002  242.970001  401.679993\n",
      "2022-01-04  477.549988  84.169998  169.570007  242.509995  396.470001\n",
      "2022-01-05  468.380005  83.879997  169.059998  237.250000  384.290009\n",
      "2022-01-06  467.940002  83.790001  166.990005  237.190002  384.019989\n",
      "2022-01-07  466.089996  83.559998  167.750000  236.110001  379.859985\n",
      "...                ...        ...         ...         ...         ...\n",
      "2023-12-22  473.649994  73.360001  190.270004  236.630005  408.380005\n",
      "2023-12-26  475.649994  73.430000  191.720001  237.800003  410.880005\n",
      "2023-12-27  476.510010  73.900002  192.589996  238.250000  411.500000\n",
      "2023-12-28  476.690002  73.720001  191.470001  238.130005  411.299988\n",
      "2023-12-29  475.309998  73.550003  191.169998  237.220001  409.519989\n",
      "\n",
      "[501 rows x 5 columns]\n"
     ]
    }
   ],
   "source": [
    "print(close_df)"
   ]
  },
  {
   "cell_type": "code",
   "execution_count": null,
   "id": "888c43ac",
   "metadata": {},
   "outputs": [],
   "source": []
  }
 ],
 "metadata": {
  "kernelspec": {
   "display_name": "Python 3 (ipykernel)",
   "language": "python",
   "name": "python3"
  },
  "language_info": {
   "codemirror_mode": {
    "name": "ipython",
    "version": 3
   },
   "file_extension": ".py",
   "mimetype": "text/x-python",
   "name": "python",
   "nbconvert_exporter": "python",
   "pygments_lexer": "ipython3",
   "version": "3.11.4"
  }
 },
 "nbformat": 4,
 "nbformat_minor": 5
}
